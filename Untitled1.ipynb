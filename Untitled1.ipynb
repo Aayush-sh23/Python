{
 "cells": [
  {
   "cell_type": "code",
   "execution_count": 2,
   "id": "afb53523",
   "metadata": {},
   "outputs": [
    {
     "name": "stdout",
     "output_type": "stream",
     "text": [
      "[1, 8, 27, 64]\n"
     ]
    }
   ],
   "source": [
    "numbers = [1, 2, 3, 4]\n",
    "squares = [n**3 for n in numbers]\n",
    "print(squares) "
   ]
  },
  {
   "cell_type": "code",
   "execution_count": 6,
   "id": "9ae710e7",
   "metadata": {},
   "outputs": [
    {
     "name": "stdout",
     "output_type": "stream",
     "text": [
      "[4, 6]\n"
     ]
    }
   ],
   "source": [
    "list_a = [4,5,6,7]\n",
    "list_b = [4,6,10,12]\n",
    "common_num=[ b for b in list_b for a in  list_a if a==b]\n",
    "print(common_num)"
   ]
  },
  {
   "cell_type": "code",
   "execution_count": 11,
   "id": "daa6135f",
   "metadata": {},
   "outputs": [
    {
     "name": "stdout",
     "output_type": "stream",
     "text": [
      "11 12 5 2 \n",
      "15 6 10 6 \n",
      "0 5 11 13 \n",
      "10 8 12 5 \n",
      "12 15 8 6 \n"
     ]
    }
   ],
   "source": [
    "T= [[11,12,5,2],[15,6,10,6],[0,5,11,13],[10,8,12,5],[12,15,8,6]]\n",
    "for row in T: #Every row in T is a list\n",
    "    for col in row: #Every col is an element of the list row\n",
    "        print(col, end=\" \") #Print col\n",
    "    print() #New Line"
   ]
  },
  {
   "cell_type": "code",
   "execution_count": null,
   "id": "459554cd",
   "metadata": {},
   "outputs": [],
   "source": []
  }
 ],
 "metadata": {
  "kernelspec": {
   "display_name": "Python 3 (ipykernel)",
   "language": "python",
   "name": "python3"
  },
  "language_info": {
   "codemirror_mode": {
    "name": "ipython",
    "version": 3
   },
   "file_extension": ".py",
   "mimetype": "text/x-python",
   "name": "python",
   "nbconvert_exporter": "python",
   "pygments_lexer": "ipython3",
   "version": "3.9.12"
  }
 },
 "nbformat": 4,
 "nbformat_minor": 5
}
