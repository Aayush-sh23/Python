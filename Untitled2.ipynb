{
 "cells": [
  {
   "cell_type": "code",
   "execution_count": 11,
   "id": "3fb5643a",
   "metadata": {},
   "outputs": [
    {
     "name": "stdout",
     "output_type": "stream",
     "text": [
      "[1, 4, 3, 16, 5, 36]\n"
     ]
    }
   ],
   "source": [
    "ki=[1,2,3,4,5,6]\n",
    "new=[]\n",
    "for i in ki:\n",
    "    if i%2==0:\n",
    "        new.append(i**2)\n",
    "    else:\n",
    "        new.append(i)\n",
    "print(new)"
   ]
  },
  {
   "cell_type": "code",
   "execution_count": 15,
   "id": "2b7fcde5",
   "metadata": {},
   "outputs": [
    {
     "name": "stdout",
     "output_type": "stream",
     "text": [
      "op is topi\n",
      "['op', 'is', 'topi']\n"
     ]
    }
   ],
   "source": [
    "li=input().split()\n",
    "print(li)"
   ]
  },
  {
   "cell_type": "code",
   "execution_count": 31,
   "id": "1139d703",
   "metadata": {},
   "outputs": [
    {
     "name": "stdout",
     "output_type": "stream",
     "text": [
      "j gugyfhyfrjm'kjhgfstreroi[kluyrf\\\n",
      "[['j'], ['g', 'u', 'g', 'y', 'f', 'h', 'y', 'f', 'r', 'j', 'm', \"'\", 'k', 'j', 'h', 'g', 'f', 's', 't', 'r', 'e', 'r', 'o', 'i', '[', 'k', 'l', 'u', 'y', 'r', 'f', '\\\\']]\n"
     ]
    }
   ],
   "source": [
    "li=input().split()\n",
    "new=[[y for y in x] for x in  li]\n",
    "print(new)"
   ]
  },
  {
   "cell_type": "code",
   "execution_count": 7,
   "id": "63b22c2d",
   "metadata": {},
   "outputs": [
    {
     "name": "stdout",
     "output_type": "stream",
     "text": [
      "[1, 4, 3, 16, 5, 36]\n"
     ]
    }
   ],
   "source": [
    "l1=[1,2,3,4,5,6]\n",
    "newli=[x**2 if x%2==0 else x for x in l1]\n",
    "print(new)"
   ]
  },
  {
   "cell_type": "code",
   "execution_count": null,
   "id": "faee04ce",
   "metadata": {},
   "outputs": [],
   "source": [
    "n=int(input())\n",
    "for i in range (1,n+1):\n",
    "    for k in range(n-i):\n",
    "        print('-',end=\"\")\n",
    "    for j in range(1,i+1):\n",
    "        print('🧟‍👩👶',end=\"\")\n",
    "    print()"
   ]
  },
  {
   "cell_type": "code",
   "execution_count": null,
   "id": "70bedeb9",
   "metadata": {},
   "outputs": [],
   "source": [
    "n=int(input())\n"
   ]
  },
  {
   "cell_type": "code",
   "execution_count": 33,
   "id": "e15d7436",
   "metadata": {},
   "outputs": [
    {
     "name": "stdout",
     "output_type": "stream",
     "text": [
      "[9, 18, 27, 36, 45, 54, 63, 72, 81, 90]\n",
      "['odd', 'even', 'odd', 'even', 'odd', 'even', 'odd', 'even', 'odd', 'even']\n"
     ]
    }
   ],
   "source": [
    "n=9\n",
    "li=[i*n for i in range(1,11)]\n",
    "print(li)\n",
    "li=[\"even\" if x%2==0 else \"odd\"for x in li]\n",
    "print(li)"
   ]
  }
 ],
 "metadata": {
  "kernelspec": {
   "display_name": "Python 3 (ipykernel)",
   "language": "python",
   "name": "python3"
  },
  "language_info": {
   "codemirror_mode": {
    "name": "ipython",
    "version": 3
   },
   "file_extension": ".py",
   "mimetype": "text/x-python",
   "name": "python",
   "nbconvert_exporter": "python",
   "pygments_lexer": "ipython3",
   "version": "3.9.12"
  }
 },
 "nbformat": 4,
 "nbformat_minor": 5
}
