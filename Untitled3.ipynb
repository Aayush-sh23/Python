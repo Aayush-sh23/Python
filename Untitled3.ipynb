{
 "cells": [
  {
   "cell_type": "markdown",
   "id": "693af329",
   "metadata": {},
   "source": [
    "#### text=input(\"\")\n",
    "a=text[0]\n",
    "b=text[-1]\n",
    "c=text[1:-1]\n",
    "New_text=b+c+a\n",
    "New_text"
   ]
  },
  {
   "cell_type": "code",
   "execution_count": null,
   "id": "ee69bfe7",
   "metadata": {},
   "outputs": [],
   "source": []
  },
  {
   "cell_type": "code",
   "execution_count": 13,
   "id": "84aa31ec",
   "metadata": {},
   "outputs": [
    {
     "data": {
      "text/plain": [
       "'aAyush_sharmA'"
      ]
     },
     "execution_count": 13,
     "metadata": {},
     "output_type": "execute_result"
    }
   ],
   "source": [
    "text=\"AAyush_sharma\"\n",
    "a=text[0]\n",
    "b=text[-1]\n",
    "c=text[1:-1]\n",
    "New_text=b+c+a\n",
    "New_text"
   ]
  },
  {
   "cell_type": "code",
   "execution_count": 26,
   "id": "cf365a29",
   "metadata": {},
   "outputs": [
    {
     "name": "stdout",
     "output_type": "stream",
     "text": [
      "Aayush\n"
     ]
    },
    {
     "data": {
      "text/plain": [
       "'hsuyaA'"
      ]
     },
     "execution_count": 26,
     "metadata": {},
     "output_type": "execute_result"
    }
   ],
   "source": [
    "text=input(\"\")\n",
    "a=text[::-1]\n",
    "a"
   ]
  },
  {
   "cell_type": "code",
   "execution_count": 30,
   "id": "6e38ae34",
   "metadata": {},
   "outputs": [
    {
     "name": "stdout",
     "output_type": "stream",
     "text": [
      "oyo\n",
      "palindrome\n"
     ]
    }
   ],
   "source": [
    "text=input(\"\")\n",
    "a=text[::-1]\n",
    "if a==text:\n",
    "    print(\"palindrome\")\n",
    "else:\n",
    "    print(\"not palindrome\")"
   ]
  },
  {
   "cell_type": "code",
   "execution_count": 1,
   "id": "f56dec86",
   "metadata": {},
   "outputs": [
    {
     "name": "stdout",
     "output_type": "stream",
     "text": [
      "aayush\n",
      "aayush\n",
      "ayusha\n",
      "yushaa\n",
      "ushaay\n",
      "shaayu\n",
      "haayus\n"
     ]
    }
   ],
   "source": [
    "text=input(\"\")\n",
    "for i in range(len(text)):\n",
    "    new_text=text[i:]+text[:i]\n",
    "    print(new_text)"
   ]
  },
  {
   "cell_type": "code",
   "execution_count": 1,
   "id": "303fc386",
   "metadata": {},
   "outputs": [],
   "source": [
    "tuple=(1,2,3,4)\n"
   ]
  },
  {
   "cell_type": "code",
   "execution_count": 2,
   "id": "0f1ac808",
   "metadata": {},
   "outputs": [
    {
     "data": {
      "text/plain": [
       "1"
      ]
     },
     "execution_count": 2,
     "metadata": {},
     "output_type": "execute_result"
    }
   ],
   "source": [
    "tuple[0]"
   ]
  },
  {
   "cell_type": "code",
   "execution_count": 7,
   "id": "954b3d3e",
   "metadata": {},
   "outputs": [
    {
     "name": "stdout",
     "output_type": "stream",
     "text": [
      "()987 55 4\n"
     ]
    }
   ],
   "source": [
    "tuple1=((1,2,3,4),(input()))"
   ]
  },
  {
   "cell_type": "code",
   "execution_count": 9,
   "id": "8750b90c",
   "metadata": {},
   "outputs": [
    {
     "name": "stdout",
     "output_type": "stream",
     "text": [
      "((1, 2, 3, 4), '987 55 4')\n"
     ]
    }
   ],
   "source": [
    "print(tuple1)"
   ]
  },
  {
   "cell_type": "code",
   "execution_count": 16,
   "id": "35dd28bb",
   "metadata": {},
   "outputs": [
    {
     "name": "stdout",
     "output_type": "stream",
     "text": [
      "0\n"
     ]
    }
   ],
   "source": [
    "tuple2=((2,3,4,5),(input()))"
   ]
  },
  {
   "cell_type": "code",
   "execution_count": 20,
   "id": "1a77083d",
   "metadata": {},
   "outputs": [
    {
     "ename": "TypeError",
     "evalue": "tuple.count() takes exactly one argument (0 given)",
     "output_type": "error",
     "traceback": [
      "\u001b[1;31m---------------------------------------------------------------------------\u001b[0m",
      "\u001b[1;31mTypeError\u001b[0m                                 Traceback (most recent call last)",
      "Input \u001b[1;32mIn [20]\u001b[0m, in \u001b[0;36m<cell line: 1>\u001b[1;34m()\u001b[0m\n\u001b[1;32m----> 1\u001b[0m \u001b[43mtuple2\u001b[49m\u001b[38;5;241;43m.\u001b[39;49m\u001b[43mcount\u001b[49m\u001b[43m(\u001b[49m\u001b[43m)\u001b[49m\n",
      "\u001b[1;31mTypeError\u001b[0m: tuple.count() takes exactly one argument (0 given)"
     ]
    }
   ],
   "source": [
    "tuple2.count()"
   ]
  },
  {
   "cell_type": "code",
   "execution_count": 22,
   "id": "7a71abf8",
   "metadata": {},
   "outputs": [
    {
     "name": "stdout",
     "output_type": "stream",
     "text": [
      "((2, 3, 4, 5), '0', (2, 3, 4, 5), '0', (2, 3, 4, 5), '0', (2, 3, 4, 5), '0', (2, 3, 4, 5), '0', (2, 3, 4, 5), '0', (2, 3, 4, 5), '0')\n"
     ]
    }
   ],
   "source": [
    "print(tuple2*7)"
   ]
  },
  {
   "cell_type": "code",
   "execution_count": 25,
   "id": "fb15b084",
   "metadata": {},
   "outputs": [
    {
     "data": {
      "text/plain": [
       "0"
      ]
     },
     "execution_count": 25,
     "metadata": {},
     "output_type": "execute_result"
    }
   ],
   "source": [
    "tuple.count(2)"
   ]
  },
  {
   "cell_type": "code",
   "execution_count": 28,
   "id": "6a1a6f46",
   "metadata": {},
   "outputs": [
    {
     "name": "stdout",
     "output_type": "stream",
     "text": [
      "[5, 8, 23, 44, 45]\n"
     ]
    }
   ],
   "source": [
    "t2=(8,23,45,44,5)\n",
    "b=sorted(t2)\n",
    "print(b)"
   ]
  },
  {
   "cell_type": "code",
   "execution_count": 23,
   "id": "3564caa6",
   "metadata": {},
   "outputs": [
    {
     "name": "stdout",
     "output_type": "stream",
     "text": [
      "12 32 45 6, 88 ,8\n",
      "('1', '2', ' ', '3', '2', ' ', '4', '5', ' ', '6', ',', ' ', '8', '8', ' ', ',', '8')\n"
     ]
    }
   ],
   "source": [
    "str=input(\"\")\n",
    "b=tuple(str)\n",
    "print(b)"
   ]
  },
  {
   "cell_type": "code",
   "execution_count": null,
   "id": "8df936cd",
   "metadata": {},
   "outputs": [],
   "source": [
    "str=\"1 2  3\"\n",
    "b=tuple(str)\n",
    "print(b)"
   ]
  },
  {
   "cell_type": "code",
   "execution_count": 26,
   "id": "c640e5c9",
   "metadata": {},
   "outputs": [
    {
     "name": "stdout",
     "output_type": "stream",
     "text": [
      "421\n",
      "124\n"
     ]
    }
   ],
   "source": [
    "c=input()\n",
    "d= c[::-1]\n",
    "print(d)"
   ]
  },
  {
   "cell_type": "code",
   "execution_count": 34,
   "id": "8d34aac3",
   "metadata": {},
   "outputs": [
    {
     "name": "stdout",
     "output_type": "stream",
     "text": [
      "['', (1, 2), (1, 2, 3)]\n"
     ]
    }
   ],
   "source": [
    "a= [(),(),(\"\"),(1,2),(1,2,3)]\n",
    "empty=()\n",
    "li = []\n",
    "for i in a:\n",
    "    if i==empty:\n",
    "        pass\n",
    "    else:\n",
    "        li.append(i)\n",
    "print(li)"
   ]
  },
  {
   "cell_type": "code",
   "execution_count": 35,
   "id": "2912d41b",
   "metadata": {},
   "outputs": [
    {
     "name": "stdout",
     "output_type": "stream",
     "text": [
      "['the', 'tajmahal', 'is', 'one', 'of', 'the', 'seven', 'wonders']\n",
      "ehtlahamjatsienofoehtnevessrednow\n"
     ]
    }
   ],
   "source": [
    "a= \"the tajmahal is one of the seven wonders\"\n",
    "b= a.split()\n",
    "print(b)\n",
    "k=[]\n",
    "for i in range(0,len(b)):\n",
    "    f=b[i]\n",
    "    c=f[-1:0:-1]\n",
    "    d=f[0]\n",
    "    e=c+d\n",
    "    k.append(e)\n",
    "print(\"\".join(k))"
   ]
  },
  {
   "cell_type": "code",
   "execution_count": 33,
   "id": "94b02fc6",
   "metadata": {},
   "outputs": [
    {
     "ename": "SyntaxError",
     "evalue": "EOL while scanning string literal (3421067333.py, line 4)",
     "output_type": "error",
     "traceback": [
      "\u001b[1;36m  Input \u001b[1;32mIn [33]\u001b[1;36m\u001b[0m\n\u001b[1;33m    print(tuple(y))'\u001b[0m\n\u001b[1;37m                    ^\u001b[0m\n\u001b[1;31mSyntaxError\u001b[0m\u001b[1;31m:\u001b[0m EOL while scanning string literal\n"
     ]
    }
   ],
   "source": [
    "t= \"1 2 3 4 5 6 7 \"\n",
    "x= t.split()\n",
    "y= [int(i) for i in x]\n",
    "print(tuple(y))'"
   ]
  },
  {
   "cell_type": "code",
   "execution_count": 6,
   "id": "dd91f99e",
   "metadata": {},
   "outputs": [
    {
     "name": "stdout",
     "output_type": "stream",
     "text": [
      "o\n",
      "NO\n"
     ]
    }
   ],
   "source": [
    "a=input()\n",
    "alphabet=\"abcdefghijklmnopqrstuvwxyz\"\n",
    "for i in alphabet:\n",
    "    if i not  in a:\n",
    "        print(\"NO\")\n",
    "        break\n",
    "    else:\n",
    "        print(\"yes\")"
   ]
  },
  {
   "cell_type": "code",
   "execution_count": 11,
   "id": "aac7d27d",
   "metadata": {},
   "outputs": [
    {
     "name": "stdout",
     "output_type": "stream",
     "text": [
      "s\n",
      "noo\n",
      "noo\n",
      "noo\n",
      "noo\n",
      "noo\n",
      "noo\n",
      "noo\n",
      "noo\n",
      "noo\n",
      "noo\n",
      "noo\n",
      "noo\n",
      "noo\n",
      "noo\n",
      "noo\n",
      "noo\n",
      "noo\n",
      "noo\n",
      "yes\n"
     ]
    }
   ],
   "source": [
    "a=input()\n",
    "alphabet=\"abcdefghijklmnopqrstuvwxyz\"\n",
    "for i in alphabet:\n",
    "    if i   in a:\n",
    "        print(\"yes\")\n",
    "        break\n",
    "    else:\n",
    "        print(\"noo\")"
   ]
  }
 ],
 "metadata": {
  "kernelspec": {
   "display_name": "Python 3 (ipykernel)",
   "language": "python",
   "name": "python3"
  },
  "language_info": {
   "codemirror_mode": {
    "name": "ipython",
    "version": 3
   },
   "file_extension": ".py",
   "mimetype": "text/x-python",
   "name": "python",
   "nbconvert_exporter": "python",
   "pygments_lexer": "ipython3",
   "version": "3.9.12"
  }
 },
 "nbformat": 4,
 "nbformat_minor": 5
}
